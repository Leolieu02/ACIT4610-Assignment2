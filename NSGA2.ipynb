{
 "cells": [
  {
   "cell_type": "markdown",
   "id": "20980106",
   "metadata": {},
   "source": [
    "Read files"
   ]
  },
  {
   "cell_type": "code",
   "execution_count": 6,
   "id": "97f9b1e9",
   "metadata": {},
   "outputs": [
    {
     "data": {
      "text/plain": [
       "{1: (82.0, 76.0, 0),\n",
       " 2: (96.0, 44.0, 19),\n",
       " 3: (50.0, 5.0, 21),\n",
       " 4: (49.0, 8.0, 6),\n",
       " 5: (13.0, 7.0, 19),\n",
       " 6: (29.0, 89.0, 7),\n",
       " 7: (58.0, 30.0, 12),\n",
       " 8: (84.0, 39.0, 16),\n",
       " 9: (14.0, 24.0, 6),\n",
       " 10: (2.0, 39.0, 16),\n",
       " 11: (3.0, 82.0, 8),\n",
       " 12: (5.0, 10.0, 14),\n",
       " 13: (98.0, 52.0, 21),\n",
       " 14: (84.0, 25.0, 16),\n",
       " 15: (61.0, 59.0, 3),\n",
       " 16: (1.0, 65.0, 22),\n",
       " 17: (88.0, 51.0, 18),\n",
       " 18: (91.0, 2.0, 19),\n",
       " 19: (19.0, 32.0, 1),\n",
       " 20: (93.0, 3.0, 24),\n",
       " 21: (50.0, 93.0, 8),\n",
       " 22: (98.0, 14.0, 12),\n",
       " 23: (5.0, 42.0, 4),\n",
       " 24: (42.0, 9.0, 8),\n",
       " 25: (61.0, 62.0, 24),\n",
       " 26: (9.0, 97.0, 24),\n",
       " 27: (80.0, 55.0, 2),\n",
       " 28: (57.0, 69.0, 20),\n",
       " 29: (23.0, 15.0, 15),\n",
       " 30: (20.0, 70.0, 2),\n",
       " 31: (85.0, 60.0, 14),\n",
       " 32: (98.0, 5.0, 9)}"
      ]
     },
     "execution_count": 6,
     "metadata": {},
     "output_type": "execute_result"
    }
   ],
   "source": [
    "import numpy as np\n",
    "import random\n",
    "\n",
    "def read_vrp_file(filepath: str):\n",
    "    data = {\n",
    "        \"name\": None,\n",
    "        \"dimension\": None,\n",
    "        \"capacity\": None,\n",
    "        \"customers\": {},   # now contains x,y,demand\n",
    "        \"depot\": None,\n",
    "        \"distance_matrix\": None\n",
    "    }\n",
    "\n",
    "    coordinates = {}\n",
    "    demands = {}\n",
    "\n",
    "    section = None\n",
    "    with open(filepath, \"r\") as f:\n",
    "        for line in f:\n",
    "            line = line.strip()\n",
    "            if not line or line.startswith(\"EOF\"):\n",
    "                continue\n",
    "\n",
    "            # Metadata\n",
    "            if line.startswith(\"NAME\"):\n",
    "                data[\"name\"] = line.split(\":\")[1].strip()\n",
    "            elif line.startswith(\"DIMENSION\"):\n",
    "                data[\"dimension\"] = int(line.split(\":\")[1].strip())\n",
    "            elif line.startswith(\"CAPACITY\"):\n",
    "                data[\"capacity\"] = int(line.split(\":\")[1].strip())\n",
    "            elif line.startswith(\"EDGE_WEIGHT_TYPE\"):\n",
    "                data[\"edge_weight_type\"] = line.split(\":\")[1].strip()\n",
    "\n",
    "            # Sections\n",
    "            elif line.startswith(\"NODE_COORD_SECTION\"):\n",
    "                section = \"coords\"\n",
    "                continue\n",
    "            elif line.startswith(\"DEMAND_SECTION\"):\n",
    "                section = \"demand\"\n",
    "                continue\n",
    "            elif line.startswith(\"DEPOT_SECTION\"):\n",
    "                section = \"depot\"\n",
    "                continue\n",
    "\n",
    "            # Parse sections\n",
    "            elif section == \"coords\":\n",
    "                parts = line.split()\n",
    "                node, x, y = int(parts[0]), float(parts[1]), float(parts[2])\n",
    "                coordinates[node] = (x, y)\n",
    "\n",
    "            elif section == \"demand\":\n",
    "                parts = line.split()\n",
    "                node, demand = int(parts[0]), int(parts[1])\n",
    "                demands[node] = demand\n",
    "\n",
    "            elif section == \"depot\":\n",
    "                node = int(line)\n",
    "                if node == -1:  # End of depot section\n",
    "                    section = None\n",
    "                else:\n",
    "                    data[\"depot\"] = node\n",
    "\n",
    "    # Merge coordinates and demands into customers\n",
    "    for node, (x, y) in coordinates.items():\n",
    "        demand = demands.get(node, 0)\n",
    "        data[\"customers\"][node] = (x, y, demand)\n",
    "\n",
    "    return data\n",
    "\n",
    "\n",
    "data = read_vrp_file(\"content/A-n32-k5.vrp\")\n",
    "data['customers']"
   ]
  },
  {
   "cell_type": "markdown",
   "id": "ce287ea2",
   "metadata": {},
   "source": [
    "Creates individuals"
   ]
  },
  {
   "cell_type": "code",
   "execution_count": 7,
   "id": "18e1da90",
   "metadata": {},
   "outputs": [
    {
     "name": "stdout",
     "output_type": "stream",
     "text": [
      "[(82.0, 76.0, 0), (96.0, 44.0, 19), (50.0, 5.0, 21), (49.0, 8.0, 6), (13.0, 7.0, 19), (29.0, 89.0, 7), (58.0, 30.0, 12), (84.0, 39.0, 16), (14.0, 24.0, 6), (2.0, 39.0, 16), (3.0, 82.0, 8), (5.0, 10.0, 14), (98.0, 52.0, 21), (84.0, 25.0, 16), (61.0, 59.0, 3), (1.0, 65.0, 22), (88.0, 51.0, 18), (91.0, 2.0, 19), (19.0, 32.0, 1), (93.0, 3.0, 24), (50.0, 93.0, 8), (98.0, 14.0, 12), (5.0, 42.0, 4), (42.0, 9.0, 8), (61.0, 62.0, 24), (9.0, 97.0, 24), (80.0, 55.0, 2), (57.0, 69.0, 20), (23.0, 15.0, 15), (20.0, 70.0, 2), (85.0, 60.0, 14), (98.0, 5.0, 9)]\n"
     ]
    },
    {
     "data": {
      "text/plain": [
       "[[3, 10, 13, 14, 16, 18, 23, 28],\n",
       " [1, 5, 7, 9, 12, 26, 30],\n",
       " [4, 15, 21, 25],\n",
       " [8, 11, 19, 20, 29],\n",
       " [2, 6, 17, 22],\n",
       " [24],\n",
       " [27],\n",
       " [31]]"
      ]
     },
     "execution_count": 7,
     "metadata": {},
     "output_type": "execute_result"
    }
   ],
   "source": [
    "customers = [cust for key, cust in data['customers'].items()]\n",
    "print(customers)\n",
    "vehicleCapacity = data['capacity']\n",
    "depot = data['depot']-1\n",
    "\n",
    "# hardcoding vehicles, not good we need change\n",
    "\n",
    "def vehicleCheck(customer, vehicle):\n",
    "  usedSpace = 0\n",
    "  for cust in vehicle:\n",
    "    usedSpace += customers[cust][2]\n",
    "  return usedSpace + customer[2] <= vehicleCapacity\n",
    "\n",
    "def create_individual(vehicles):\n",
    "    # Step 2: Remove one random element\n",
    "    individual = [[] for _ in range(vehicles)]\n",
    "\n",
    "    for idx in range(1,len(customers)):\n",
    "        customer = customers[idx]\n",
    "        chosen_vehicle = random.randint(0, vehicles - 1)\n",
    "        if vehicleCheck(customer, individual[chosen_vehicle]):\n",
    "            individual[chosen_vehicle].append(idx)\n",
    "        else:\n",
    "            individual.append([idx])\n",
    "\n",
    "    return individual\n",
    "\n",
    "create_individual(5)"
   ]
  },
  {
   "cell_type": "markdown",
   "id": "90d8453e",
   "metadata": {},
   "source": [
    "Mutation"
   ]
  },
  {
   "cell_type": "code",
   "execution_count": 8,
   "id": "fa62aff5",
   "metadata": {},
   "outputs": [],
   "source": [
    "def swap_mutation(individual):\n",
    "    vehicle = random.choice([v for v in individual if len(v) > 1])\n",
    "    i, j = random.sample(range(len(vehicle)), 2)\n",
    "    vehicle[i], vehicle[j] = vehicle[j], vehicle[i]\n",
    "    return individual\n",
    "\n",
    "\n",
    "def relocation_mutation(individual):\n",
    "    # pick a non-empty vehicle as source\n",
    "    from_vehicle = random.choice([v for v in individual if v])\n",
    "    customer = from_vehicle.pop(random.randrange(len(from_vehicle)))\n",
    "\n",
    "    # pick a different vehicle as target\n",
    "    candidates = [v for v in individual if v is not from_vehicle]\n",
    "    to_vehicle = random.choice(candidates)\n",
    "\n",
    "    # Check if car has space for customer\n",
    "    if vehicleCheck(customers[customer], to_vehicle):\n",
    "        print(customers[customer])\n",
    "        print(customer)\n",
    "        print(to_vehicle)\n",
    "        # insert at random position\n",
    "        insert_pos = random.randint(0, len(to_vehicle))\n",
    "        to_vehicle.insert(insert_pos, customer)\n",
    "    # If there isnt space in the car, create new one\n",
    "    else:\n",
    "        individual.append([customer])\n",
    "\n",
    "    return individual\n",
    "\n",
    "\n",
    "def mutate(individual):\n",
    "    chance = random.random()\n",
    "    if chance <= 0.1:  # 10% mutation rate for demonstration\n",
    "      if chance < 0.05: # 50% of each mutation type\n",
    "        relocation_mutation(individual)\n",
    "      else: swap_mutation(individual)\n",
    "    return individual"
   ]
  },
  {
   "cell_type": "code",
   "execution_count": 9,
   "id": "65efb511",
   "metadata": {},
   "outputs": [
    {
     "name": "stdout",
     "output_type": "stream",
     "text": [
      "[[14, 21, 27], [5, 15, 16, 18, 19, 22, 24], [1, 3, 7, 17, 25], [4, 9, 11, 13, 20, 23, 30], [2, 6, 8, 10, 12, 29, 31], [26], [28]]\n",
      "(9.0, 97.0, 24)\n",
      "25\n",
      "[26]\n",
      "[[14, 21, 27], [5, 15, 16, 18, 19, 22, 24], [1, 3, 7, 17], [4, 9, 11, 13, 20, 23, 30], [2, 6, 8, 10, 12, 29, 31], [26, 25], [28]]\n"
     ]
    }
   ],
   "source": [
    "testIndividual = create_individual(5)\n",
    "print(testIndividual)\n",
    "newIndividual = relocation_mutation(testIndividual)\n",
    "print(newIndividual)"
   ]
  }
 ],
 "metadata": {
  "kernelspec": {
   "display_name": "Python 3",
   "language": "python",
   "name": "python3"
  },
  "language_info": {
   "codemirror_mode": {
    "name": "ipython",
    "version": 3
   },
   "file_extension": ".py",
   "mimetype": "text/x-python",
   "name": "python",
   "nbconvert_exporter": "python",
   "pygments_lexer": "ipython3",
   "version": "3.12.2"
  }
 },
 "nbformat": 4,
 "nbformat_minor": 5
}
