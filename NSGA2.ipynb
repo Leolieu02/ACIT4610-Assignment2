{
 "cells": [
  {
   "cell_type": "markdown",
   "id": "20980106",
   "metadata": {},
   "source": [
    "Read files"
   ]
  },
  {
   "cell_type": "code",
   "execution_count": 4,
   "id": "97f9b1e9",
   "metadata": {},
   "outputs": [
    {
     "data": {
      "text/plain": [
       "{1: (82.0, 76.0, 0),\n",
       " 2: (96.0, 44.0, 19),\n",
       " 3: (50.0, 5.0, 21),\n",
       " 4: (49.0, 8.0, 6),\n",
       " 5: (13.0, 7.0, 19),\n",
       " 6: (29.0, 89.0, 7),\n",
       " 7: (58.0, 30.0, 12),\n",
       " 8: (84.0, 39.0, 16),\n",
       " 9: (14.0, 24.0, 6),\n",
       " 10: (2.0, 39.0, 16),\n",
       " 11: (3.0, 82.0, 8),\n",
       " 12: (5.0, 10.0, 14),\n",
       " 13: (98.0, 52.0, 21),\n",
       " 14: (84.0, 25.0, 16),\n",
       " 15: (61.0, 59.0, 3),\n",
       " 16: (1.0, 65.0, 22),\n",
       " 17: (88.0, 51.0, 18),\n",
       " 18: (91.0, 2.0, 19),\n",
       " 19: (19.0, 32.0, 1),\n",
       " 20: (93.0, 3.0, 24),\n",
       " 21: (50.0, 93.0, 8),\n",
       " 22: (98.0, 14.0, 12),\n",
       " 23: (5.0, 42.0, 4),\n",
       " 24: (42.0, 9.0, 8),\n",
       " 25: (61.0, 62.0, 24),\n",
       " 26: (9.0, 97.0, 24),\n",
       " 27: (80.0, 55.0, 2),\n",
       " 28: (57.0, 69.0, 20),\n",
       " 29: (23.0, 15.0, 15),\n",
       " 30: (20.0, 70.0, 2),\n",
       " 31: (85.0, 60.0, 14),\n",
       " 32: (98.0, 5.0, 9)}"
      ]
     },
     "execution_count": 4,
     "metadata": {},
     "output_type": "execute_result"
    }
   ],
   "source": [
    "import numpy as np\n",
    "import random\n",
    "\n",
    "def read_vrp_file(filepath: str):\n",
    "    data = {\n",
    "        \"name\": None,\n",
    "        \"dimension\": None,\n",
    "        \"capacity\": None,\n",
    "        \"customers\": {},   # now contains x,y,demand\n",
    "        \"depot\": None,\n",
    "        \"distance_matrix\": None\n",
    "    }\n",
    "\n",
    "    coordinates = {}\n",
    "    demands = {}\n",
    "\n",
    "    section = None\n",
    "    with open(filepath, \"r\") as f:\n",
    "        for line in f:\n",
    "            line = line.strip()\n",
    "            if not line or line.startswith(\"EOF\"):\n",
    "                continue\n",
    "\n",
    "            # Metadata\n",
    "            if line.startswith(\"NAME\"):\n",
    "                data[\"name\"] = line.split(\":\")[1].strip()\n",
    "            elif line.startswith(\"DIMENSION\"):\n",
    "                data[\"dimension\"] = int(line.split(\":\")[1].strip())\n",
    "            elif line.startswith(\"CAPACITY\"):\n",
    "                data[\"capacity\"] = int(line.split(\":\")[1].strip())\n",
    "            elif line.startswith(\"EDGE_WEIGHT_TYPE\"):\n",
    "                data[\"edge_weight_type\"] = line.split(\":\")[1].strip()\n",
    "\n",
    "            # Sections\n",
    "            elif line.startswith(\"NODE_COORD_SECTION\"):\n",
    "                section = \"coords\"\n",
    "                continue\n",
    "            elif line.startswith(\"DEMAND_SECTION\"):\n",
    "                section = \"demand\"\n",
    "                continue\n",
    "            elif line.startswith(\"DEPOT_SECTION\"):\n",
    "                section = \"depot\"\n",
    "                continue\n",
    "\n",
    "            # Parse sections\n",
    "            elif section == \"coords\":\n",
    "                parts = line.split()\n",
    "                node, x, y = int(parts[0]), float(parts[1]), float(parts[2])\n",
    "                coordinates[node] = (x, y)\n",
    "\n",
    "            elif section == \"demand\":\n",
    "                parts = line.split()\n",
    "                node, demand = int(parts[0]), int(parts[1])\n",
    "                demands[node] = demand\n",
    "\n",
    "            elif section == \"depot\":\n",
    "                node = int(line)\n",
    "                if node == -1:  # End of depot section\n",
    "                    section = None\n",
    "                else:\n",
    "                    data[\"depot\"] = node\n",
    "\n",
    "    # Merge coordinates and demands into customers\n",
    "    for node, (x, y) in coordinates.items():\n",
    "        demand = demands.get(node, 0)\n",
    "        data[\"customers\"][node] = (x, y, demand)\n",
    "\n",
    "    return data\n",
    "\n",
    "\n",
    "data = read_vrp_file(\"content/A-n32-k5.vrp\")\n",
    "data['customers']"
   ]
  },
  {
   "cell_type": "markdown",
   "id": "ce287ea2",
   "metadata": {},
   "source": [
    "Creates individuals"
   ]
  },
  {
   "cell_type": "code",
   "execution_count": 5,
   "id": "18e1da90",
   "metadata": {},
   "outputs": [
    {
     "name": "stdout",
     "output_type": "stream",
     "text": [
      "[(82.0, 76.0, 0), (96.0, 44.0, 19), (50.0, 5.0, 21), (49.0, 8.0, 6), (13.0, 7.0, 19), (29.0, 89.0, 7), (58.0, 30.0, 12), (84.0, 39.0, 16), (14.0, 24.0, 6), (2.0, 39.0, 16), (3.0, 82.0, 8), (5.0, 10.0, 14), (98.0, 52.0, 21), (84.0, 25.0, 16), (61.0, 59.0, 3), (1.0, 65.0, 22), (88.0, 51.0, 18), (91.0, 2.0, 19), (19.0, 32.0, 1), (93.0, 3.0, 24), (50.0, 93.0, 8), (98.0, 14.0, 12), (5.0, 42.0, 4), (42.0, 9.0, 8), (61.0, 62.0, 24), (9.0, 97.0, 24), (80.0, 55.0, 2), (57.0, 69.0, 20), (23.0, 15.0, 15), (20.0, 70.0, 2), (85.0, 60.0, 14), (98.0, 5.0, 9)]\n"
     ]
    },
    {
     "data": {
      "text/plain": [
       "[[7, 13, 17, 21],\n",
       " [4, 10, 15, 19, 30],\n",
       " [5, 18, 20, 22, 26, 28],\n",
       " [2, 3, 8, 11, 14, 25, 27],\n",
       " [1, 6, 9, 12, 16, 23, 29],\n",
       " [24],\n",
       " [31]]"
      ]
     },
     "execution_count": 5,
     "metadata": {},
     "output_type": "execute_result"
    }
   ],
   "source": [
    "customers = [cust for key, cust in data['customers'].items()]\n",
    "print(customers)\n",
    "vehicleCapacity = data['capacity']\n",
    "depot = data['depot']-1\n",
    "\n",
    "# hardcoding vehicles, not good we need change\n",
    "\n",
    "def vehicleCheck(customer, vehicle):\n",
    "  usedSpace = 0\n",
    "  for cust in vehicle:\n",
    "    usedSpace += customers[cust][2]\n",
    "  return usedSpace + customer[2] <= vehicleCapacity\n",
    "\n",
    "def create_individual(vehicles):\n",
    "    # Step 2: Remove one random element\n",
    "    individual = [[] for _ in range(vehicles)]\n",
    "\n",
    "    for idx in range(1,len(customers)):\n",
    "        customer = customers[idx]\n",
    "        chosen_vehicle = random.randint(0, vehicles - 1)\n",
    "        if vehicleCheck(customer, individual[chosen_vehicle]):\n",
    "            individual[chosen_vehicle].append(idx)\n",
    "        else:\n",
    "            individual.append([idx])\n",
    "\n",
    "    return individual\n",
    "\n",
    "create_individual(5)"
   ]
  }
 ],
 "metadata": {
  "kernelspec": {
   "display_name": "Python 3",
   "language": "python",
   "name": "python3"
  },
  "language_info": {
   "codemirror_mode": {
    "name": "ipython",
    "version": 3
   },
   "file_extension": ".py",
   "mimetype": "text/x-python",
   "name": "python",
   "nbconvert_exporter": "python",
   "pygments_lexer": "ipython3",
   "version": "3.13.7"
  }
 },
 "nbformat": 4,
 "nbformat_minor": 5
}
