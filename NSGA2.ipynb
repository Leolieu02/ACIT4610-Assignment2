{
 "cells": [
  {
   "cell_type": "markdown",
   "id": "20980106",
   "metadata": {},
   "source": [
    "Read files"
   ]
  },
  {
   "cell_type": "code",
   "execution_count": null,
   "id": "97f9b1e9",
   "metadata": {
    "vscode": {
     "languageId": "plaintext"
    }
   },
   "outputs": [],
   "source": [
    "import numpy as np\n",
    "import random\n",
    "\n",
    "def read_vrp_file(filepath: str):\n",
    "    data = {\n",
    "        \"name\": None,\n",
    "        \"dimension\": None,\n",
    "        \"capacity\": None,\n",
    "        \"customers\": {},   # now contains x,y,demand\n",
    "        \"depot\": None,\n",
    "        \"distance_matrix\": None\n",
    "    }\n",
    "\n",
    "    coordinates = {}\n",
    "    demands = {}\n",
    "\n",
    "    section = None\n",
    "    with open(filepath, \"r\") as f:\n",
    "        for line in f:\n",
    "            line = line.strip()\n",
    "            if not line or line.startswith(\"EOF\"):\n",
    "                continue\n",
    "\n",
    "            # Metadata\n",
    "            if line.startswith(\"NAME\"):\n",
    "                data[\"name\"] = line.split(\":\")[1].strip()\n",
    "            elif line.startswith(\"DIMENSION\"):\n",
    "                data[\"dimension\"] = int(line.split(\":\")[1].strip())\n",
    "            elif line.startswith(\"CAPACITY\"):\n",
    "                data[\"capacity\"] = int(line.split(\":\")[1].strip())\n",
    "            elif line.startswith(\"EDGE_WEIGHT_TYPE\"):\n",
    "                data[\"edge_weight_type\"] = line.split(\":\")[1].strip()\n",
    "\n",
    "            # Sections\n",
    "            elif line.startswith(\"NODE_COORD_SECTION\"):\n",
    "                section = \"coords\"\n",
    "                continue\n",
    "            elif line.startswith(\"DEMAND_SECTION\"):\n",
    "                section = \"demand\"\n",
    "                continue\n",
    "            elif line.startswith(\"DEPOT_SECTION\"):\n",
    "                section = \"depot\"\n",
    "                continue\n",
    "\n",
    "            # Parse sections\n",
    "            elif section == \"coords\":\n",
    "                parts = line.split()\n",
    "                node, x, y = int(parts[0]), float(parts[1]), float(parts[2])\n",
    "                coordinates[node] = (x, y)\n",
    "\n",
    "            elif section == \"demand\":\n",
    "                parts = line.split()\n",
    "                node, demand = int(parts[0]), int(parts[1])\n",
    "                demands[node] = demand\n",
    "\n",
    "            elif section == \"depot\":\n",
    "                node = int(line)\n",
    "                if node == -1:  # End of depot section\n",
    "                    section = None\n",
    "                else:\n",
    "                    data[\"depot\"] = node\n",
    "\n",
    "    # Merge coordinates and demands into customers\n",
    "    for node, (x, y) in coordinates.items():\n",
    "        demand = demands.get(node, 0)\n",
    "        data[\"customers\"][node] = (x, y, demand)\n",
    "\n",
    "    return data\n",
    "\n",
    "\n",
    "data = read_vrp_file(\"/content/A-n32-k5.vrp\")\n",
    "data['customers']"
   ]
  },
  {
   "cell_type": "markdown",
   "id": "ce287ea2",
   "metadata": {},
   "source": [
    "Creates individuals"
   ]
  },
  {
   "cell_type": "code",
   "execution_count": null,
   "id": "18e1da90",
   "metadata": {
    "vscode": {
     "languageId": "plaintext"
    }
   },
   "outputs": [],
   "source": [
    "customers = [cust for key, cust in data['customers'].items()]\n",
    "print(customers)\n",
    "vehicleCapacity = data['capacity']\n",
    "depot = data['depot']-1\n",
    "\n",
    "# hardcoding vehicles, not good we need change\n",
    "\n",
    "def vehicleCheck(customer, vehicle):\n",
    "  usedSpace = 0\n",
    "  for cust in vehicle:\n",
    "    usedSpace += customers[cust][2]\n",
    "  return usedSpace + customer[2] <= vehicleCapacity\n",
    "\n",
    "def create_individual(vehicles):\n",
    "    # Step 2: Remove one random element\n",
    "    individual = [[] for _ in range(vehicles)]\n",
    "\n",
    "    for idx in range(1,len(customers)):\n",
    "        customer = customers[idx]\n",
    "        chosen_vehicle = random.randint(0, vehicles - 1)\n",
    "        if vehicleCheck(customer, individual[chosen_vehicle]):\n",
    "            individual[chosen_vehicle].append(idx)\n",
    "        else:\n",
    "            individual.append([idx])\n",
    "\n",
    "    return individual\n",
    "\n",
    "create_individual(5)"
   ]
  }
 ],
 "metadata": {
  "language_info": {
   "name": "python"
  }
 },
 "nbformat": 4,
 "nbformat_minor": 5
}
